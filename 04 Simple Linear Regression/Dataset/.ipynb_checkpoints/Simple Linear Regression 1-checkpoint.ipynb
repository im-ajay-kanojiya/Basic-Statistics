{
 "cells": [
  {
   "cell_type": "markdown",
   "id": "df2fea85",
   "metadata": {},
   "source": [
    "## Build a simple linear regression model by performing EDA and do necessary transformations and select the best model using R or Python.\n",
    "\n",
    "**Delivery time - Predict delivery time using sorting time**"
   ]
  },
  {
   "cell_type": "markdown",
   "id": "185f4667",
   "metadata": {},
   "source": [
    "### Importing Necessary Libraries"
   ]
  },
  {
   "cell_type": "code",
   "execution_count": 1,
   "id": "9d315ef5",
   "metadata": {},
   "outputs": [],
   "source": [
    "import pandas as pd\n",
    "import numpy as np\n",
    "import scipy.stats as stats\n",
    "import matplotlib.pyplot as plt\n",
    "import seaborn as sns\n",
    "import statsmodels.api as sm\n",
    "import statsmodels.formula.api as smf\n",
    "import warnings\n",
    "warnings.filterwarnings('ignore')"
   ]
  },
  {
   "cell_type": "markdown",
   "id": "1ecb98cc",
   "metadata": {},
   "source": [
    "### Importing data"
   ]
  },
  {
   "cell_type": "code",
   "execution_count": 2,
   "id": "87c7d396",
   "metadata": {},
   "outputs": [
    {
     "data": {
      "text/html": [
       "<div>\n",
       "<style scoped>\n",
       "    .dataframe tbody tr th:only-of-type {\n",
       "        vertical-align: middle;\n",
       "    }\n",
       "\n",
       "    .dataframe tbody tr th {\n",
       "        vertical-align: top;\n",
       "    }\n",
       "\n",
       "    .dataframe thead th {\n",
       "        text-align: right;\n",
       "    }\n",
       "</style>\n",
       "<table border=\"1\" class=\"dataframe\">\n",
       "  <thead>\n",
       "    <tr style=\"text-align: right;\">\n",
       "      <th></th>\n",
       "      <th>Delivery Time</th>\n",
       "      <th>Sorting Time</th>\n",
       "    </tr>\n",
       "  </thead>\n",
       "  <tbody>\n",
       "    <tr>\n",
       "      <th>0</th>\n",
       "      <td>21.00</td>\n",
       "      <td>10</td>\n",
       "    </tr>\n",
       "    <tr>\n",
       "      <th>1</th>\n",
       "      <td>13.50</td>\n",
       "      <td>4</td>\n",
       "    </tr>\n",
       "    <tr>\n",
       "      <th>2</th>\n",
       "      <td>19.75</td>\n",
       "      <td>6</td>\n",
       "    </tr>\n",
       "    <tr>\n",
       "      <th>3</th>\n",
       "      <td>24.00</td>\n",
       "      <td>9</td>\n",
       "    </tr>\n",
       "    <tr>\n",
       "      <th>4</th>\n",
       "      <td>29.00</td>\n",
       "      <td>10</td>\n",
       "    </tr>\n",
       "    <tr>\n",
       "      <th>5</th>\n",
       "      <td>15.35</td>\n",
       "      <td>6</td>\n",
       "    </tr>\n",
       "    <tr>\n",
       "      <th>6</th>\n",
       "      <td>19.00</td>\n",
       "      <td>7</td>\n",
       "    </tr>\n",
       "    <tr>\n",
       "      <th>7</th>\n",
       "      <td>9.50</td>\n",
       "      <td>3</td>\n",
       "    </tr>\n",
       "    <tr>\n",
       "      <th>8</th>\n",
       "      <td>17.90</td>\n",
       "      <td>10</td>\n",
       "    </tr>\n",
       "    <tr>\n",
       "      <th>9</th>\n",
       "      <td>18.75</td>\n",
       "      <td>9</td>\n",
       "    </tr>\n",
       "    <tr>\n",
       "      <th>10</th>\n",
       "      <td>19.83</td>\n",
       "      <td>8</td>\n",
       "    </tr>\n",
       "    <tr>\n",
       "      <th>11</th>\n",
       "      <td>10.75</td>\n",
       "      <td>4</td>\n",
       "    </tr>\n",
       "    <tr>\n",
       "      <th>12</th>\n",
       "      <td>16.68</td>\n",
       "      <td>7</td>\n",
       "    </tr>\n",
       "    <tr>\n",
       "      <th>13</th>\n",
       "      <td>11.50</td>\n",
       "      <td>3</td>\n",
       "    </tr>\n",
       "    <tr>\n",
       "      <th>14</th>\n",
       "      <td>12.03</td>\n",
       "      <td>3</td>\n",
       "    </tr>\n",
       "    <tr>\n",
       "      <th>15</th>\n",
       "      <td>14.88</td>\n",
       "      <td>4</td>\n",
       "    </tr>\n",
       "    <tr>\n",
       "      <th>16</th>\n",
       "      <td>13.75</td>\n",
       "      <td>6</td>\n",
       "    </tr>\n",
       "    <tr>\n",
       "      <th>17</th>\n",
       "      <td>18.11</td>\n",
       "      <td>7</td>\n",
       "    </tr>\n",
       "    <tr>\n",
       "      <th>18</th>\n",
       "      <td>8.00</td>\n",
       "      <td>2</td>\n",
       "    </tr>\n",
       "    <tr>\n",
       "      <th>19</th>\n",
       "      <td>17.83</td>\n",
       "      <td>7</td>\n",
       "    </tr>\n",
       "    <tr>\n",
       "      <th>20</th>\n",
       "      <td>21.50</td>\n",
       "      <td>5</td>\n",
       "    </tr>\n",
       "  </tbody>\n",
       "</table>\n",
       "</div>"
      ],
      "text/plain": [
       "    Delivery Time  Sorting Time\n",
       "0           21.00            10\n",
       "1           13.50             4\n",
       "2           19.75             6\n",
       "3           24.00             9\n",
       "4           29.00            10\n",
       "5           15.35             6\n",
       "6           19.00             7\n",
       "7            9.50             3\n",
       "8           17.90            10\n",
       "9           18.75             9\n",
       "10          19.83             8\n",
       "11          10.75             4\n",
       "12          16.68             7\n",
       "13          11.50             3\n",
       "14          12.03             3\n",
       "15          14.88             4\n",
       "16          13.75             6\n",
       "17          18.11             7\n",
       "18           8.00             2\n",
       "19          17.83             7\n",
       "20          21.50             5"
      ]
     },
     "execution_count": 2,
     "metadata": {},
     "output_type": "execute_result"
    }
   ],
   "source": [
    "delivery_data = pd.read_csv('delivery_time.csv')\n",
    "delivery_data"
   ]
  },
  {
   "cell_type": "markdown",
   "id": "6197473e",
   "metadata": {},
   "source": [
    "### Data Understanding"
   ]
  },
  {
   "cell_type": "code",
   "execution_count": 3,
   "id": "a8c17dcf",
   "metadata": {},
   "outputs": [
    {
     "data": {
      "text/plain": [
       "(21, 2)"
      ]
     },
     "execution_count": 3,
     "metadata": {},
     "output_type": "execute_result"
    }
   ],
   "source": [
    "delivery_data.shape"
   ]
  },
  {
   "cell_type": "code",
   "execution_count": 4,
   "id": "d6f66390",
   "metadata": {},
   "outputs": [
    {
     "name": "stdout",
     "output_type": "stream",
     "text": [
      "<class 'pandas.core.frame.DataFrame'>\n",
      "RangeIndex: 21 entries, 0 to 20\n",
      "Data columns (total 2 columns):\n",
      " #   Column         Non-Null Count  Dtype  \n",
      "---  ------         --------------  -----  \n",
      " 0   Delivery Time  21 non-null     float64\n",
      " 1   Sorting Time   21 non-null     int64  \n",
      "dtypes: float64(1), int64(1)\n",
      "memory usage: 464.0 bytes\n"
     ]
    }
   ],
   "source": [
    "delivery_data.info()"
   ]
  },
  {
   "cell_type": "code",
   "execution_count": 5,
   "id": "53d96242",
   "metadata": {},
   "outputs": [
    {
     "data": {
      "text/plain": [
       "Delivery Time    0\n",
       "Sorting Time     0\n",
       "dtype: int64"
      ]
     },
     "execution_count": 5,
     "metadata": {},
     "output_type": "execute_result"
    }
   ],
   "source": [
    "delivery_data.isna().sum()"
   ]
  },
  {
   "cell_type": "code",
   "execution_count": 6,
   "id": "4e5e688a",
   "metadata": {},
   "outputs": [
    {
     "data": {
      "text/html": [
       "<div>\n",
       "<style scoped>\n",
       "    .dataframe tbody tr th:only-of-type {\n",
       "        vertical-align: middle;\n",
       "    }\n",
       "\n",
       "    .dataframe tbody tr th {\n",
       "        vertical-align: top;\n",
       "    }\n",
       "\n",
       "    .dataframe thead th {\n",
       "        text-align: right;\n",
       "    }\n",
       "</style>\n",
       "<table border=\"1\" class=\"dataframe\">\n",
       "  <thead>\n",
       "    <tr style=\"text-align: right;\">\n",
       "      <th></th>\n",
       "      <th>Delivery Time</th>\n",
       "      <th>Sorting Time</th>\n",
       "    </tr>\n",
       "  </thead>\n",
       "  <tbody>\n",
       "    <tr>\n",
       "      <th>count</th>\n",
       "      <td>21.000000</td>\n",
       "      <td>21.000000</td>\n",
       "    </tr>\n",
       "    <tr>\n",
       "      <th>mean</th>\n",
       "      <td>16.790952</td>\n",
       "      <td>6.190476</td>\n",
       "    </tr>\n",
       "    <tr>\n",
       "      <th>std</th>\n",
       "      <td>5.074901</td>\n",
       "      <td>2.542028</td>\n",
       "    </tr>\n",
       "    <tr>\n",
       "      <th>min</th>\n",
       "      <td>8.000000</td>\n",
       "      <td>2.000000</td>\n",
       "    </tr>\n",
       "    <tr>\n",
       "      <th>25%</th>\n",
       "      <td>13.500000</td>\n",
       "      <td>4.000000</td>\n",
       "    </tr>\n",
       "    <tr>\n",
       "      <th>50%</th>\n",
       "      <td>17.830000</td>\n",
       "      <td>6.000000</td>\n",
       "    </tr>\n",
       "    <tr>\n",
       "      <th>75%</th>\n",
       "      <td>19.750000</td>\n",
       "      <td>8.000000</td>\n",
       "    </tr>\n",
       "    <tr>\n",
       "      <th>max</th>\n",
       "      <td>29.000000</td>\n",
       "      <td>10.000000</td>\n",
       "    </tr>\n",
       "  </tbody>\n",
       "</table>\n",
       "</div>"
      ],
      "text/plain": [
       "       Delivery Time  Sorting Time\n",
       "count      21.000000     21.000000\n",
       "mean       16.790952      6.190476\n",
       "std         5.074901      2.542028\n",
       "min         8.000000      2.000000\n",
       "25%        13.500000      4.000000\n",
       "50%        17.830000      6.000000\n",
       "75%        19.750000      8.000000\n",
       "max        29.000000     10.000000"
      ]
     },
     "execution_count": 6,
     "metadata": {},
     "output_type": "execute_result"
    }
   ],
   "source": [
    "delivery_data.describe()"
   ]
  },
  {
   "cell_type": "markdown",
   "id": "469c7b3a",
   "metadata": {},
   "source": [
    "### Renaming Columns"
   ]
  },
  {
   "cell_type": "code",
   "execution_count": 7,
   "id": "2426ffa3",
   "metadata": {},
   "outputs": [
    {
     "data": {
      "text/html": [
       "<div>\n",
       "<style scoped>\n",
       "    .dataframe tbody tr th:only-of-type {\n",
       "        vertical-align: middle;\n",
       "    }\n",
       "\n",
       "    .dataframe tbody tr th {\n",
       "        vertical-align: top;\n",
       "    }\n",
       "\n",
       "    .dataframe thead th {\n",
       "        text-align: right;\n",
       "    }\n",
       "</style>\n",
       "<table border=\"1\" class=\"dataframe\">\n",
       "  <thead>\n",
       "    <tr style=\"text-align: right;\">\n",
       "      <th></th>\n",
       "      <th>Delivery_Time</th>\n",
       "      <th>Sorting_Time</th>\n",
       "    </tr>\n",
       "  </thead>\n",
       "  <tbody>\n",
       "    <tr>\n",
       "      <th>0</th>\n",
       "      <td>21.00</td>\n",
       "      <td>10</td>\n",
       "    </tr>\n",
       "    <tr>\n",
       "      <th>1</th>\n",
       "      <td>13.50</td>\n",
       "      <td>4</td>\n",
       "    </tr>\n",
       "    <tr>\n",
       "      <th>2</th>\n",
       "      <td>19.75</td>\n",
       "      <td>6</td>\n",
       "    </tr>\n",
       "    <tr>\n",
       "      <th>3</th>\n",
       "      <td>24.00</td>\n",
       "      <td>9</td>\n",
       "    </tr>\n",
       "    <tr>\n",
       "      <th>4</th>\n",
       "      <td>29.00</td>\n",
       "      <td>10</td>\n",
       "    </tr>\n",
       "    <tr>\n",
       "      <th>5</th>\n",
       "      <td>15.35</td>\n",
       "      <td>6</td>\n",
       "    </tr>\n",
       "    <tr>\n",
       "      <th>6</th>\n",
       "      <td>19.00</td>\n",
       "      <td>7</td>\n",
       "    </tr>\n",
       "    <tr>\n",
       "      <th>7</th>\n",
       "      <td>9.50</td>\n",
       "      <td>3</td>\n",
       "    </tr>\n",
       "    <tr>\n",
       "      <th>8</th>\n",
       "      <td>17.90</td>\n",
       "      <td>10</td>\n",
       "    </tr>\n",
       "    <tr>\n",
       "      <th>9</th>\n",
       "      <td>18.75</td>\n",
       "      <td>9</td>\n",
       "    </tr>\n",
       "    <tr>\n",
       "      <th>10</th>\n",
       "      <td>19.83</td>\n",
       "      <td>8</td>\n",
       "    </tr>\n",
       "    <tr>\n",
       "      <th>11</th>\n",
       "      <td>10.75</td>\n",
       "      <td>4</td>\n",
       "    </tr>\n",
       "    <tr>\n",
       "      <th>12</th>\n",
       "      <td>16.68</td>\n",
       "      <td>7</td>\n",
       "    </tr>\n",
       "    <tr>\n",
       "      <th>13</th>\n",
       "      <td>11.50</td>\n",
       "      <td>3</td>\n",
       "    </tr>\n",
       "    <tr>\n",
       "      <th>14</th>\n",
       "      <td>12.03</td>\n",
       "      <td>3</td>\n",
       "    </tr>\n",
       "    <tr>\n",
       "      <th>15</th>\n",
       "      <td>14.88</td>\n",
       "      <td>4</td>\n",
       "    </tr>\n",
       "    <tr>\n",
       "      <th>16</th>\n",
       "      <td>13.75</td>\n",
       "      <td>6</td>\n",
       "    </tr>\n",
       "    <tr>\n",
       "      <th>17</th>\n",
       "      <td>18.11</td>\n",
       "      <td>7</td>\n",
       "    </tr>\n",
       "    <tr>\n",
       "      <th>18</th>\n",
       "      <td>8.00</td>\n",
       "      <td>2</td>\n",
       "    </tr>\n",
       "    <tr>\n",
       "      <th>19</th>\n",
       "      <td>17.83</td>\n",
       "      <td>7</td>\n",
       "    </tr>\n",
       "    <tr>\n",
       "      <th>20</th>\n",
       "      <td>21.50</td>\n",
       "      <td>5</td>\n",
       "    </tr>\n",
       "  </tbody>\n",
       "</table>\n",
       "</div>"
      ],
      "text/plain": [
       "    Delivery_Time  Sorting_Time\n",
       "0           21.00            10\n",
       "1           13.50             4\n",
       "2           19.75             6\n",
       "3           24.00             9\n",
       "4           29.00            10\n",
       "5           15.35             6\n",
       "6           19.00             7\n",
       "7            9.50             3\n",
       "8           17.90            10\n",
       "9           18.75             9\n",
       "10          19.83             8\n",
       "11          10.75             4\n",
       "12          16.68             7\n",
       "13          11.50             3\n",
       "14          12.03             3\n",
       "15          14.88             4\n",
       "16          13.75             6\n",
       "17          18.11             7\n",
       "18           8.00             2\n",
       "19          17.83             7\n",
       "20          21.50             5"
      ]
     },
     "execution_count": 7,
     "metadata": {},
     "output_type": "execute_result"
    }
   ],
   "source": [
    "delivery_data = delivery_data.rename({'Delivery Time':'Delivery_Time','Sorting Time':'Sorting_Time'}, axis = 1)\n",
    "delivery_data"
   ]
  },
  {
   "cell_type": "markdown",
   "id": "f322f24a",
   "metadata": {},
   "source": [
    "### Plotting the data to check for outliers"
   ]
  },
  {
   "cell_type": "code",
   "execution_count": 8,
   "id": "e78b3caa",
   "metadata": {},
   "outputs": [
    {
     "data": {
      "image/png": "[encoded data removed]",
      "text/plain": [
       "<Figure size 640x480 with 2 Axes>"
      ]
     },
     "metadata": {},
     "output_type": "display_data"
    }
   ],
   "source": [
    "plt.subplot(121)\n",
    "plt.boxplot(delivery_data['Delivery_Time'])\n",
    "plt.title('Delivery Time')\n",
    "plt.subplot(122)\n",
    "plt.boxplot(delivery_data['Sorting_Time'])\n",
    "plt.title('Sorting Time')\n",
    "plt.show()"
   ]
  },
  {
   "cell_type": "markdown",
   "id": "7901fded",
   "metadata": {},
   "source": [
    "#### As we can see there are no Outliers in the data"
   ]
  },
  {
   "cell_type": "markdown",
   "id": "1bab77aa",
   "metadata": {},
   "source": [
    "### Checking the Correlation between variables"
   ]
  },
  {
   "cell_type": "code",
   "execution_count": 9,
   "id": "6098884f",
   "metadata": {},
   "outputs": [
    {
     "data": {
      "text/html": [
       "<div>\n",
       "<style scoped>\n",
       "    .dataframe tbody tr th:only-of-type {\n",
       "        vertical-align: middle;\n",
       "    }\n",
       "\n",
       "    .dataframe tbody tr th {\n",
       "        vertical-align: top;\n",
       "    }\n",
       "\n",
       "    .dataframe thead th {\n",
       "        text-align: right;\n",
       "    }\n",
       "</style>\n",
       "<table border=\"1\" class=\"dataframe\">\n",
       "  <thead>\n",
       "    <tr style=\"text-align: right;\">\n",
       "      <th></th>\n",
       "      <th>Delivery_Time</th>\n",
       "      <th>Sorting_Time</th>\n",
       "    </tr>\n",
       "  </thead>\n",
       "  <tbody>\n",
       "    <tr>\n",
       "      <th>Delivery_Time</th>\n",
       "      <td>1.000000</td>\n",
       "      <td>0.825997</td>\n",
       "    </tr>\n",
       "    <tr>\n",
       "      <th>Sorting_Time</th>\n",
       "      <td>0.825997</td>\n",
       "      <td>1.000000</td>\n",
       "    </tr>\n",
       "  </tbody>\n",
       "</table>\n",
       "</div>"
      ],
      "text/plain": [
       "               Delivery_Time  Sorting_Time\n",
       "Delivery_Time       1.000000      0.825997\n",
       "Sorting_Time        0.825997      1.000000"
      ]
     },
     "execution_count": 9,
     "metadata": {},
     "output_type": "execute_result"
    }
   ],
   "source": [
    "delivery_data.corr()"
   ]
  },
  {
   "cell_type": "code",
   "execution_count": 10,
   "id": "b4f23344",
   "metadata": {},
   "outputs": [
    {
     "data": {
      "image/png": "[encoded data removed]",
      "text/plain": [
       "<Figure size 640x480 with 2 Axes>"
      ]
     },
     "metadata": {},
     "output_type": "display_data"
    }
   ],
   "source": [
    "sns.heatmap(data= delivery_data, annot=True)\n",
    "plt.show()"
   ]
  },
  {
   "cell_type": "markdown",
   "id": "bfcb1952",
   "metadata": {},
   "source": [
    "### Visualization of Correlation beteen x and y"
   ]
  },
  {
   "cell_type": "code",
   "execution_count": 11,
   "id": "1b077e69",
   "metadata": {},
   "outputs": [
    {
     "data": {
      "image/png": "[encoded data removed]",
      "text/plain": [
       "<Figure size 640x480 with 1 Axes>"
      ]
     },
     "metadata": {},
     "output_type": "display_data"
    }
   ],
   "source": [
    "sns.regplot(x='Delivery_Time', y='Sorting_Time', data= delivery_data)\n",
    "plt.title('Delivery_Time Vs Sorting_Time', fontsize = 14)\n",
    "plt.show()"
   ]
  },
  {
   "cell_type": "markdown",
   "id": "55e10c40",
   "metadata": {},
   "source": [
    "#### As we can see above\n",
    "* There is not much good correlation between the two variable."
   ]
  },
  {
   "cell_type": "markdown",
   "id": "480ce072",
   "metadata": {},
   "source": [
    "### Checking for Homoscedasticity or Hetroscedasticity"
   ]
  },
  {
   "cell_type": "code",
   "execution_count": 12,
   "id": "877efc98",
   "metadata": {
    "scrolled": true
   },
   "outputs": [
    {
     "data": {
      "image/png": "[encoded data removed]",
      "text/plain": [
       "<Figure size 640x480 with 1 Axes>"
      ]
     },
     "metadata": {},
     "output_type": "display_data"
    }
   ],
   "source": [
    "sns.scatterplot(x = 'Sorting_Time', y = 'Delivery_Time', data= delivery_data)\n",
    "plt.title('Hetroscedasticity', fontweight = 'bold', fontsize = 16)\n",
    "plt.show()"
   ]
  },
  {
   "cell_type": "code",
   "execution_count": 13,
   "id": "478a61b4",
   "metadata": {},
   "outputs": [
    {
     "data": {
      "text/plain": [
       "Delivery_Time    25.754619\n",
       "Sorting_Time      6.461905\n",
       "dtype: float64"
      ]
     },
     "execution_count": 13,
     "metadata": {},
     "output_type": "execute_result"
    }
   ],
   "source": [
    "delivery_data.var()"
   ]
  },
  {
   "cell_type": "markdown",
   "id": "cb87e1c1",
   "metadata": {},
   "source": [
    "#### As we can see in above graph\n",
    "* It shows as the Sorting Time Increases Delivery Time also increases with much variation along the way\n",
    "* The data doesn't have any specific pattern in the variation, but we can't say the variation is Hetroscedasticity."
   ]
  },
  {
   "cell_type": "markdown",
   "id": "1becee1c",
   "metadata": {},
   "source": [
    "### Trying different transformation of data to estimate normal distribution and to remove any skewness"
   ]
  },
  {
   "cell_type": "code",
   "execution_count": 14,
   "id": "d2fb23cb",
   "metadata": {},
   "outputs": [
    {
     "data": {
      "image/png": "[encoded data removed]",
      "text/plain": [
       "<Figure size 500x500 with 1 Axes>"
      ]
     },
     "metadata": {},
     "output_type": "display_data"
    },
    {
     "data": {
      "image/png": "[encoded data removed]",
      "text/plain": [
       "<Figure size 500x500 with 1 Axes>"
      ]
     },
     "metadata": {},
     "output_type": "display_data"
    }
   ],
   "source": [
    "sns.displot(delivery_data['Delivery_Time'], bins = 10, kde = True)\n",
    "plt.title('Before Transformation')\n",
    "sns.displot(np.log(delivery_data['Delivery_Time']), bins = 10, kde = True)\n",
    "plt.title('After Transformation')\n",
    "plt.show()"
   ]
  },
  {
   "cell_type": "code",
   "execution_count": null,
   "id": "db77627a",
   "metadata": {},
   "outputs": [],
   "source": [
    "labels = ['Before Transformation','After Transformation']\n",
    "sns.distplot(delivery_data['Delivery_Time'], bins = 10, kde = True)\n",
    "sns.distplot(np.log(delivery_data['Delivery_Time']), bins = 10, kde = True)\n",
    "plt.legend(labels)\n",
    "plt.show()"
   ]
  },
  {
   "cell_type": "markdown",
   "id": "3fc81b68",
   "metadata": {},
   "source": [
    "#### As we can see\n",
    "* How log transformation affects the data and it scales the values down."
   ]
  },
  {
   "cell_type": "code",
   "execution_count": null,
   "id": "cf540d74",
   "metadata": {},
   "outputs": [],
   "source": [
    "sm.qqplot(delivery_data['Delivery_Time'], line = 'r')\n",
    "plt.title('No transformation')\n",
    "sm.qqplot(np.log(delivery_data['Delivery_Time']), line = 'r')\n",
    "plt.title('Log transformation')\n",
    "sm.qqplot(np.sqrt(delivery_data['Delivery_Time']), line = 'r')\n",
    "plt.title('Square root transformation')\n",
    "sm.qqplot(np.cbrt(delivery_data['Delivery_Time']), line = 'r')\n",
    "plt.title('Cube root transformation')\n",
    "plt.show()"
   ]
  },
  {
   "cell_type": "code",
   "execution_count": null,
   "id": "a2731b6a",
   "metadata": {},
   "outputs": [],
   "source": [
    "sns.displot(delivery_data['Sorting_Time'], bins = 10, kde = True)\n",
    "plt.title('Before Transformation')\n",
    "sns.displot(np.log(delivery_data['Sorting_Time']), bins = 10, kde = True)\n",
    "plt.title('After Transformation')\n",
    "plt.show()"
   ]
  },
  {
   "cell_type": "code",
   "execution_count": null,
   "id": "c0dc68a0",
   "metadata": {},
   "outputs": [],
   "source": [
    "labels = ['Before Transformation','After Transformation']\n",
    "sns.distplot(delivery_data['Sorting_Time'], bins = 10, kde = True)\n",
    "sns.distplot(np.log(delivery_data['Sorting_Time']), bins = 10, kde = True)\n",
    "plt.legend(labels)\n",
    "plt.show()"
   ]
  },
  {
   "cell_type": "code",
   "execution_count": null,
   "id": "133cf29c",
   "metadata": {},
   "outputs": [],
   "source": [
    "sm.qqplot(delivery_data['Sorting_Time'], line = 'r')\n",
    "plt.title('No transformation')\n",
    "sm.qqplot(np.log(delivery_data['Sorting_Time']), line = 'r')\n",
    "plt.title('Log transformation')\n",
    "sm.qqplot(np.sqrt(delivery_data['Sorting_Time']), line = 'r')\n",
    "plt.title('square root transformation')\n",
    "sm.qqplot(np.cbrt(delivery_data['Sorting_Time']), line = 'r')\n",
    "plt.title('Cube root transformation')\n",
    "plt.show()"
   ]
  },
  {
   "cell_type": "markdown",
   "id": "c27bb19a",
   "metadata": {},
   "source": [
    "#### Important Note:\n",
    "* We only Perform any data transformation when the data is skewed or not normal distribution N(0,1)"
   ]
  },
  {
   "cell_type": "markdown",
   "id": "045fe333",
   "metadata": {},
   "source": [
    "### Fitting a Linear Regression Model\n",
    "### Using Ordinary Least Squares (OLS) regression\n",
    "\n",
    "**It is a statistical method of analysis that estimates the relationship between one or more independent variables and a dependent variable; the method estimates the relationship by minimizing the sum of the squares in the difference between the observed and predicted values of the dependent variable configured as a straight line**"
   ]
  },
  {
   "cell_type": "code",
   "execution_count": null,
   "id": "fcc6085f",
   "metadata": {},
   "outputs": [],
   "source": [
    "linear_model = smf.ols('Delivery_Time~Sorting_Time', data = delivery_data).fit()"
   ]
  },
  {
   "cell_type": "code",
   "execution_count": null,
   "id": "386aa9f8",
   "metadata": {},
   "outputs": [],
   "source": [
    "print('R-squared     :',linear_model.rsquared.round(3)) #Overall Contribution of Predictors\n",
    "print('Adj.R-squared :',linear_model.rsquared_adj.round(3)) #Overall Contribution of Predictors\n",
    "print('AIC Value     :',linear_model.aic.round(3)) #Error Impurity\n",
    "print('BIC Value     :',linear_model.bic.round(3)) #Error Impurity"
   ]
  },
  {
   "cell_type": "markdown",
   "id": "87d554e8",
   "metadata": {},
   "source": [
    "#### As we can notice in the above model\n",
    "* The R-squared and Adjusted R-squared scores are still below 0.85.\n",
    "* Lets Try some data transformation to check whether these scores can get any higher than this."
   ]
  },
  {
   "cell_type": "markdown",
   "id": "1969feea",
   "metadata": {},
   "source": [
    "### Square Root transformation on data"
   ]
  },
  {
   "cell_type": "code",
   "execution_count": null,
   "id": "6fcc4ae8",
   "metadata": {},
   "outputs": [],
   "source": [
    "linear_model1 = smf.ols('np.sqrt(Delivery_Time)~np.sqrt(Sorting_Time)', data = delivery_data).fit()"
   ]
  },
  {
   "cell_type": "code",
   "execution_count": null,
   "id": "acc41783",
   "metadata": {},
   "outputs": [],
   "source": [
    "print('R-squared     :',linear_model1.rsquared.round(3))\n",
    "print('Adj.R-squared :',linear_model1.rsquared_adj.round(3))\n",
    "print('AIC Value     :',linear_model1.aic.round(3))\n",
    "print('BIC Value     :',linear_model1.bic.round(3))"
   ]
  },
  {
   "cell_type": "markdown",
   "id": "874036c1",
   "metadata": {},
   "source": [
    "#### As we can notice in the above model\n",
    "* After Square Root transformation on the Data, R-squared and Adjusted R-squared scores have increased but they are still below 0.85.\n",
    "* Lets Try other data transformation to check whether these scores can get any higher than this."
   ]
  },
  {
   "cell_type": "markdown",
   "id": "ed23dd53",
   "metadata": {},
   "source": [
    "### Cube Root transformation on data"
   ]
  },
  {
   "cell_type": "code",
   "execution_count": null,
   "id": "1ad48267",
   "metadata": {},
   "outputs": [],
   "source": [
    "linear_model2 = smf.ols('np.cbrt(Delivery_Time)~np.cbrt(Sorting_Time)', data = delivery_data).fit()"
   ]
  },
  {
   "cell_type": "code",
   "execution_count": null,
   "id": "e8efe090",
   "metadata": {},
   "outputs": [],
   "source": [
    "print('R-squared     :',linear_model2.rsquared.round(3))\n",
    "print('Adj.R-squared :',linear_model2.rsquared_adj.round(3))\n",
    "print('AIC Value     :',linear_model2.aic.round(3))\n",
    "print('BIC Value     :',linear_model2.bic.round(3))"
   ]
  },
  {
   "cell_type": "markdown",
   "id": "63e53b6d",
   "metadata": {},
   "source": [
    "#### As we can notice in the above model\n",
    "* After Cube root transformation on the Data, R-squared and Adjusted R-squared scores have increased but they are still below 0.85.\n",
    "* Lets Try other data transformation to check whether these scores can get any higher than this."
   ]
  },
  {
   "cell_type": "markdown",
   "id": "ec661edf",
   "metadata": {},
   "source": [
    "### Log transformation on data"
   ]
  },
  {
   "cell_type": "code",
   "execution_count": null,
   "id": "d394e785",
   "metadata": {},
   "outputs": [],
   "source": [
    "linear_model3 = smf.ols('np.log(Delivery_Time)~np.log(Sorting_Time)', data = delivery_data).fit()"
   ]
  },
  {
   "cell_type": "code",
   "execution_count": null,
   "id": "b0ce2e51",
   "metadata": {},
   "outputs": [],
   "source": [
    "print('R-squared     :',linear_model3.rsquared.round(3))\n",
    "print('Adj.R-squared :',linear_model3.rsquared_adj.round(3))\n",
    "print('AIC Value     :',linear_model3.aic.round(3))\n",
    "print('BIC Value     :',linear_model3.bic.round(3))"
   ]
  },
  {
   "cell_type": "markdown",
   "id": "a9426d13",
   "metadata": {},
   "source": [
    "#### As we can notice in the above model\n",
    "* After log transformation on the Data, This Model has scored the highest R-squared and Adjusted R-squared scores than the previous model\n",
    "* Yet both Adjusted R-squared and R-squared scores are still below 0.78.\n",
    "* Though it is now close to 0.80 which for a single feature/predictor variable or single independent variable is expected to be low. Hence , we can stop here."
   ]
  },
  {
   "cell_type": "markdown",
   "id": "3d8c129b",
   "metadata": {},
   "source": [
    "### Model Testing\n",
    "**As Y = Beta0 + Beta1*(X)**\n",
    "### Finding Coefficient Parameters (Beta0 and Beta1 values)"
   ]
  },
  {
   "cell_type": "code",
   "execution_count": null,
   "id": "3ff52d7c",
   "metadata": {},
   "outputs": [],
   "source": [
    "linear_model.params"
   ]
  },
  {
   "cell_type": "markdown",
   "id": "542eed8f",
   "metadata": {},
   "source": [
    "**Here, (Intercept) Beta0 value = 6.58 & (Sorting Time) Beta1 value = 1.64**\n",
    "\n",
    "**Hypothesis testing of X variable by finding test_statistics and P_values for Beta1 i.e if (P_value < α=0.05 ; Reject Null)**\n",
    "\n",
    "**Null Hypothesis as Beta1=0 (No Slope) and Alternate Hypthesis as Beta1≠0 (Some or significant Slope)**"
   ]
  },
  {
   "cell_type": "code",
   "execution_count": null,
   "id": "2bd0952f",
   "metadata": {},
   "outputs": [],
   "source": [
    "print(linear_model.tvalues,'\\n',linear_model.pvalues)"
   ]
  },
  {
   "cell_type": "markdown",
   "id": "b48de7a2",
   "metadata": {},
   "source": [
    "**(Intercept) Beta0: tvalue=3.82 , pvalue=0.001147**\n",
    "\n",
    "**(daily) Beta1: tvalue=6.38, pvalue=0.000004**\n",
    "\n",
    "**As (pvalue=0)<(α=0.05); Reject Null hyp. Thus, X(Sorting Time) variable has good slope and variance w.r.t Y(Delivery Time) variable.**\n",
    "\n",
    "**R-squared measures the strength of the relationship between your model and the dependent variable on a 0 – 100% scale.**\n",
    "\n",
    "**Measure goodness-of-fit by finding rsquared values (percentage of variance)**"
   ]
  },
  {
   "cell_type": "code",
   "execution_count": null,
   "id": "4695f22f",
   "metadata": {},
   "outputs": [],
   "source": [
    "linear_model.rsquared, linear_model.rsquared_adj"
   ]
  },
  {
   "cell_type": "markdown",
   "id": "ecee6683",
   "metadata": {},
   "source": [
    "**Determination Coefficient = rsquared value = 0.68 ; very good fit >= 85%**"
   ]
  },
  {
   "cell_type": "markdown",
   "id": "d2f6ca9b",
   "metadata": {},
   "source": [
    "### Residual Analysis\n",
    "### Test for Normality of Residuals (Q-Q Plot)"
   ]
  },
  {
   "cell_type": "code",
   "execution_count": null,
   "id": "936dbc75",
   "metadata": {},
   "outputs": [],
   "source": [
    "sm.qqplot(linear_model.resid, line = 'q')\n",
    "plt.title('Normal Q-Q plot of residuals of Model without any data transformation')\n",
    "plt.show()"
   ]
  },
  {
   "cell_type": "code",
   "execution_count": null,
   "id": "63517919",
   "metadata": {},
   "outputs": [],
   "source": [
    "sm.qqplot(linear_model3.resid, line = 'q')\n",
    "plt.title('Normal Q-Q plot of residuals of Model with Log transformation')\n",
    "plt.show()"
   ]
  },
  {
   "cell_type": "markdown",
   "id": "ff0b0a70",
   "metadata": {},
   "source": [
    "#### As we can notice in the above plots\n",
    "* Both The Model have slightly different plots\n",
    "* The first model is right skewed and doesn't follow normal distribution\n",
    "* The second model after log-transformation follows normal distributon with less skewness than first model"
   ]
  },
  {
   "cell_type": "markdown",
   "id": "46699c69",
   "metadata": {},
   "source": [
    "### Residual Plot to check Homoscedasticity or Hetroscedasticity"
   ]
  },
  {
   "cell_type": "code",
   "execution_count": null,
   "id": "a8780262",
   "metadata": {},
   "outputs": [],
   "source": [
    "def get_standardized_values( vals ):\n",
    "    return (vals - vals.mean())/vals.std()"
   ]
  },
  {
   "cell_type": "code",
   "execution_count": null,
   "id": "c2038dba",
   "metadata": {},
   "outputs": [],
   "source": [
    "plt.scatter(get_standardized_values(linear_model.fittedvalues), get_standardized_values(linear_model.resid))\n",
    "plt.title('Residual Plot for Model without any data transformation')\n",
    "plt.xlabel('Standardized Fitted Values')\n",
    "plt.ylabel('Standardized Residual Values')\n",
    "plt.show()"
   ]
  },
  {
   "cell_type": "code",
   "execution_count": null,
   "id": "408d12ba",
   "metadata": {},
   "outputs": [],
   "source": [
    "plt.scatter(get_standardized_values(linear_model3.fittedvalues), get_standardized_values(linear_model3.resid))\n",
    "plt.title('Residual Plot for Model with Log transformation')\n",
    "plt.xlabel('Standardized Features Values')\n",
    "plt.ylabel('Standardized Residual Values')\n",
    "plt.show()"
   ]
  },
  {
   "cell_type": "markdown",
   "id": "6af22034",
   "metadata": {},
   "source": [
    "#### As we can notice in the above plots\n",
    "* Both The Model have Homoscedasciticity.\n",
    "* The Residual(i.e Residual = Actual Value - Predicted Value) and the Fitted values do not share any Pattern.\n",
    "* Hence, there is no relation between the Residual and the Fitted Value. It is Randomly distributed"
   ]
  },
  {
   "cell_type": "markdown",
   "id": "4af2ade1",
   "metadata": {},
   "source": [
    "### Model Validation\n",
    "**Comparing different models with respect to their Root Mean Squared Errors**\n",
    "\n",
    "**We will analyze Mean Squared Error (MSE) or Root Mean Squared Error (RMSE) — AKA the average distance (squared to get rid of negative numbers) between the model’s predicted target value and the actual target value.**"
   ]
  },
  {
   "cell_type": "code",
   "execution_count": null,
   "id": "9020648d",
   "metadata": {},
   "outputs": [],
   "source": [
    "from sklearn.metrics import mean_squared_error"
   ]
  },
  {
   "cell_type": "code",
   "execution_count": null,
   "id": "c76539b9",
   "metadata": {},
   "outputs": [],
   "source": [
    "linear_model1_pred_y =np.square(linear_model1.predict(delivery_data['Sorting_Time']))\n",
    "linear_model2_pred_y =pow(linear_model2.predict(delivery_data['Sorting_Time']),3)\n",
    "linear_model3_pred_y =np.exp(linear_model3.predict(delivery_data['Sorting_Time']))"
   ]
  },
  {
   "cell_type": "code",
   "execution_count": null,
   "id": "cc65f3e3",
   "metadata": {},
   "outputs": [],
   "source": [
    "linear_model1_rmse =np.sqrt(mean_squared_error(delivery_data['Delivery_Time'], linear_model1_pred_y))\n",
    "linear_model2_rmse =np.sqrt(mean_squared_error(delivery_data['Delivery_Time'], linear_model2_pred_y))\n",
    "linear_model3_rmse =np.sqrt(mean_squared_error(delivery_data['Delivery_Time'], linear_model3_pred_y))\n",
    "print('Linear Model =', np.sqrt(linear_model.mse_resid),'\\n' 'Linear Model1=', linear_model1_rmse,'\\n' 'Linear Model2=', linear_model2_rmse,'\\n' 'Linear Model3=', linear_model3_rmse)"
   ]
  },
  {
   "cell_type": "code",
   "execution_count": null,
   "id": "aa13651f",
   "metadata": {},
   "outputs": [],
   "source": [
    "data = {'Linear Model': np.sqrt(linear_model.mse_resid), 'Linear Model1': linear_model1_rmse, 'Linear Model2': linear_model3_rmse, 'Linear Model3' : linear_model3_rmse}\n",
    "min(data, key=data.get)"
   ]
  },
  {
   "cell_type": "markdown",
   "id": "5f61033a",
   "metadata": {},
   "source": [
    "**As 'Linear Model2' has the minimum RMSE and highest Adjusted R-squared score. Hence, we are going to use Linear 'Linear Model2' to predict our values**\n",
    "\n",
    "**'Linear Model2' is the model where we did log transformation on both dependent variable as well as on independent variable**"
   ]
  },
  {
   "cell_type": "markdown",
   "id": "0b81504d",
   "metadata": {},
   "source": [
    "### Predicitng from original model without any data transformation"
   ]
  },
  {
   "cell_type": "code",
   "execution_count": null,
   "id": "a46b7c49",
   "metadata": {},
   "outputs": [],
   "source": [
    "predicted1 = pd.DataFrame()\n",
    "predicted1['Sorting_Time'] = delivery_data.Sorting_Time\n",
    "predicted1['Delivery_Time'] = delivery_data.Delivery_Time\n",
    "predicted1['Predicted_Delivery_Time'] = pd.DataFrame(linear_model.predict(predicted1.Sorting_Time))\n",
    "predicted1"
   ]
  },
  {
   "cell_type": "markdown",
   "id": "1af4e342",
   "metadata": {},
   "source": [
    "### Predicting values from model with log transformation on the data"
   ]
  },
  {
   "cell_type": "code",
   "execution_count": null,
   "id": "e3041833",
   "metadata": {},
   "outputs": [],
   "source": [
    "predicted2 = pd.DataFrame()\n",
    "predicted2['Sorting_Time'] = delivery_data.Sorting_Time\n",
    "predicted2['Delivery_Time'] = delivery_data.Delivery_Time\n",
    "predicted2['Predicted_Delivery_Time'] = pd.DataFrame(np.exp(linear_model2.predict(predicted2.Sorting_Time)))\n",
    "predicted2"
   ]
  },
  {
   "cell_type": "markdown",
   "id": "7cb7b0eb",
   "metadata": {},
   "source": [
    "# The End !!!"
   ]
  }
 ],
 "metadata": {
  "kernelspec": {
   "display_name": "Python 3 (ipykernel)",
   "language": "python",
   "name": "python3"
  },
  "language_info": {
   "codemirror_mode": {
    "name": "ipython",
    "version": 3
   },
   "file_extension": ".py",
   "mimetype": "text/x-python",
   "name": "python",
   "nbconvert_exporter": "python",
   "pygments_lexer": "ipython3",
   "version": "3.9.13"
  }
 },
 "nbformat": 4,
 "nbformat_minor": 5
}
