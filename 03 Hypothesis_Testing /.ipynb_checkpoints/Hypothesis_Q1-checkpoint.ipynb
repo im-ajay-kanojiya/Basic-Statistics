{
 "cells": [
  {
   "cell_type": "code",
   "execution_count": null,
   "id": "294445ee",
   "metadata": {},
   "outputs": [],
   "source": [
    "import pandas as pd\n",
    "import numpy as np\n",
    "import scipy.stats as stats"
   ]
  },
  {
   "cell_type": "code",
   "execution_count": null,
   "id": "04a17977",
   "metadata": {},
   "outputs": [],
   "source": [
    "Q1_data=pd.read_csv(\"Dataset/Cutlets.csv\")"
   ]
  },
  {
   "cell_type": "code",
   "execution_count": null,
   "id": "2a7bfecb",
   "metadata": {},
   "outputs": [],
   "source": [
    "Q1_data.head()"
   ]
  },
  {
   "cell_type": "code",
   "execution_count": null,
   "id": "fe6baf4a",
   "metadata": {},
   "outputs": [],
   "source": [
    "Q1_data.describe()"
   ]
  },
  {
   "cell_type": "code",
   "execution_count": null,
   "id": "18868a6c",
   "metadata": {},
   "outputs": [],
   "source": [
    "UnitA_mean=Q1_data['Unit A'].mean()\n",
    "UnitB_mean=Q1_data['Unit B'].mean()\n",
    "print('Unit A Mean=',UnitA_mean,'\\nUnit B Mean=',UnitB_mean)\n",
    "print('Unit A Mean > Unit B Mean=',UnitA_mean>UnitB_mean)"
   ]
  },
  {
   "cell_type": "code",
   "execution_count": null,
   "id": "e7f5d48b",
   "metadata": {},
   "outputs": [],
   "source": [
    "unit_a=pd.DataFrame(Q1_data['Unit A'])\n",
    "unit_b=pd.DataFrame(Q1_data['Unit B'])"
   ]
  },
  {
   "cell_type": "code",
   "execution_count": null,
   "id": "605984e5",
   "metadata": {},
   "outputs": [],
   "source": [
    "# Shapiro-Wilk test for normality\n",
    "_, p_value_a = stats.shapiro(unit_a)\n",
    "_, p_value_b = stats.shapiro(unit_b)\n",
    "\n",
    "print(\"Shapiro-Wilk Test - Unit A p-value:\", p_value_a)\n",
    "print(\"Shapiro-Wilk Test - Unit B p-value:\", p_value_b)\n"
   ]
  },
  {
   "cell_type": "code",
   "execution_count": null,
   "id": "16d96ee4",
   "metadata": {},
   "outputs": [],
   "source": []
  },
  {
   "cell_type": "code",
   "execution_count": null,
   "id": "f7ddcbc3",
   "metadata": {},
   "outputs": [],
   "source": [
    "# Two-sample t-test\n",
    "_, p_value_ttest = stats.ttest_ind(unit_a, unit_b, equal_var=True)\n",
    "\n",
    "print(\"Two-sample t-test - p-value:\", p_value_ttest)\n"
   ]
  },
  {
   "cell_type": "code",
   "execution_count": null,
   "id": "cd8e3353",
   "metadata": {},
   "outputs": [],
   "source": [
    "alpha = 0.05\n",
    "\n",
    "# Check normality assumption\n",
    "if p_value_a > alpha and p_value_b > alpha:\n",
    "    print(\"Both samples are approximately normally distributed.\")\n",
    "else:\n",
    "    print(\"At least one sample is not normally distributed.\")\n",
    "\n",
    "# Perform the two-sample t-test and draw inferences\n",
    "if p_value_ttest < alpha:\n",
    "    print(\"There is a significant difference in the diameter of the cutlet between Unit A and Unit B.\")\n",
    "else:\n",
    "    print(\"There is no significant difference in the diameter of the cutlet between Unit A and Unit B.\")\n"
   ]
  },
  {
   "cell_type": "code",
   "execution_count": null,
   "id": "b4ae992c",
   "metadata": {},
   "outputs": [],
   "source": []
  },
  {
   "cell_type": "code",
   "execution_count": null,
   "id": "06a335a8",
   "metadata": {},
   "outputs": [],
   "source": []
  }
 ],
 "metadata": {
  "kernelspec": {
   "display_name": "Python 3 (ipykernel)",
   "language": "python",
   "name": "python3"
  },
  "language_info": {
   "codemirror_mode": {
    "name": "ipython",
    "version": 3
   },
   "file_extension": ".py",
   "mimetype": "text/x-python",
   "name": "python",
   "nbconvert_exporter": "python",
   "pygments_lexer": "ipython3",
   "version": "3.9.13"
  }
 },
 "nbformat": 4,
 "nbformat_minor": 5
}
