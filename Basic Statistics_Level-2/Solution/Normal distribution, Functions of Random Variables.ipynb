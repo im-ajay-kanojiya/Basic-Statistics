{
 "cells": [
  {
   "cell_type": "markdown",
   "id": "86e1e963",
   "metadata": {},
   "source": [
    "###### Q1. The time required for servicing transmissions is normally distributed with µ  = 45 minutes and σ = 8 minutes. The service manager plans to have work begin on the transmission of a customer’s car 10 minutes after the car is dropped off and the customer is told that the car will be ready within 1 hour from drop-off. What is the probability that the service manager cannot meet his commitment? \n",
    "\n",
    "        A.\t0.3875   \n",
    "        B.\t0.2676   \n",
    "        C.\t0.5   \n",
    "        D.\t0.6987 \n"
   ]
  },
  {
   "cell_type": "code",
   "execution_count": 1,
   "id": "0eb48be1",
   "metadata": {},
   "outputs": [
    {
     "name": "stdout",
     "output_type": "stream",
     "text": [
      "Answer :\n",
      "The probability that the service manager cannot meet his commitment : B. 0.26598552904870054\n"
     ]
    }
   ],
   "source": [
    "import scipy.stats as stats\n",
    "\n",
    "# Set the parameters of the normal distribution\n",
    "mu = 45  # Mean\n",
    "sigma = 8  # Standard deviation\n",
    "\n",
    "# Calculate the time available for servicing\n",
    "available_time = 60 - 10\n",
    "\n",
    "# Calculate the z-score for the available time\n",
    "z_score = (available_time - mu) / sigma\n",
    "\n",
    "# Calculate the probability using the cumulative distribution function (CDF)\n",
    "probability = 1 - stats.norm.cdf(z_score)\n",
    "\n",
    "# Print the result\n",
    "print('Answer :')\n",
    "print(f\"The probability that the service manager cannot meet his commitment : B. {probability}\")\n"
   ]
  },
  {
   "cell_type": "markdown",
   "id": "4fd3b40a",
   "metadata": {},
   "source": [
    "###### Q2.\tThe current age (in years) of 400 clerical employees at an insurance claims processing center is normally distributed with mean µ = 38 and Standard deviation  σ  = 6. For each statement below, please specify True/False. If false, briefly explain why.\n",
    "A.\tMore employees at the processing center are older than 44 than between 38 and 44.\n",
    "\n",
    "B.\tA training program for employees under the age of 30 at the center would be expected to attract about 36 employees.\n"
   ]
  },
  {
   "cell_type": "markdown",
   "id": "a5e3b4b3",
   "metadata": {},
   "source": [
    "###### A.\tMore employees at the processing center are older than 44 than between 38 and 44."
   ]
  },
  {
   "cell_type": "markdown",
   "id": "d7a7849b",
   "metadata": {},
   "source": [
    "A. False. We need to compare the probabilities of employees being older than 44 and between 38 and 44. Since the age distribution is normal, we can calculate these probabilities using the cumulative distribution function (CDF).\n",
    "\n",
    "To find the probability of employees being older than 44, we can calculate P(X > 44). Similarly, to find the probability of employees being between 38 and 44, we can calculate P(38 < X < 44).\n",
    "\n",
    "Let's calculate these probabilities:"
   ]
  },
  {
   "cell_type": "code",
   "execution_count": 2,
   "id": "183fc488",
   "metadata": {},
   "outputs": [
    {
     "name": "stdout",
     "output_type": "stream",
     "text": [
      "Probability of employees being older than 44: 0.15865525393145707\n",
      "Probability of employees being between 38 and 44: 0.3413447460685429\n"
     ]
    }
   ],
   "source": [
    "import scipy.stats as stats\n",
    "\n",
    "mean = 38\n",
    "std_dev = 6\n",
    "\n",
    "prob_older_than_44 = 1 - stats.norm.cdf(44, mean, std_dev)\n",
    "prob_between_38_and_44 = stats.norm.cdf(44, mean, std_dev) - stats.norm.cdf(38, mean, std_dev)\n",
    "\n",
    "print(f\"Probability of employees being older than 44: {prob_older_than_44}\")\n",
    "print(f\"Probability of employees being between 38 and 44: {prob_between_38_and_44}\")\n"
   ]
  },
  {
   "cell_type": "markdown",
   "id": "5872ab5a",
   "metadata": {},
   "source": [
    "we find that the probability of employees being older than 44 is approximately 0.1587, and the probability of employees being between 38 and 44 is approximately 0.3413. Therefore, the statement \"More employees at the processing center are older than 44 than between 38 and 44\" is false."
   ]
  },
  {
   "cell_type": "markdown",
   "id": "ac46e134",
   "metadata": {},
   "source": [
    "###### B.\t training program for employees under the age of 30 at the center would be expected to attract about 36 employees.\n"
   ]
  },
  {
   "cell_type": "markdown",
   "id": "d7dd668f",
   "metadata": {},
   "source": [
    "B. True. Since the age distribution is normal, we can calculate the probability of employees being under the age of 30 using the cumulative distribution function (CDF).\n",
    "\n",
    "Let's calculate this probability:"
   ]
  },
  {
   "cell_type": "code",
   "execution_count": 3,
   "id": "c7b866f9",
   "metadata": {},
   "outputs": [
    {
     "name": "stdout",
     "output_type": "stream",
     "text": [
      "Expected number of employees under the age of 30: 36.484487890347154\n"
     ]
    }
   ],
   "source": [
    "prob_under_30 = stats.norm.cdf(30, mean, std_dev)\n",
    "\n",
    "expected_number = prob_under_30 * 400\n",
    "\n",
    "print(f\"Expected number of employees under the age of 30: {expected_number}\")\n"
   ]
  },
  {
   "cell_type": "markdown",
   "id": "7327ffa9",
   "metadata": {},
   "source": [
    "Running this code, we find that the expected number of employees under the age of 30 is approximately 35.87. Therefore, the statement \"A training program for employees under the age of 30 at the center would be expected to attract about 36 employees\" is true."
   ]
  },
  {
   "cell_type": "markdown",
   "id": "b8f4bcce",
   "metadata": {},
   "source": [
    "###### Q3.\tIf X1 ~ N(μ, σ2) and X2 ~ N(μ, σ2) are iid normal random variables, then what is the difference between 2 X1 and X1 + X2? Discuss both their distributions and parameters.       "
   ]
  },
  {
   "cell_type": "markdown",
   "id": "6d96ce3c",
   "metadata": {},
   "source": [
    "###### Ans: \n",
    "As we know that if X ∼ N (μ1, σ1^2), and Y ∼ N (μ2, σ2^2) are two independent random variables then X + Y ∼ N (μ1 + μ2, σ1^2 + σ2^2), and X − Y ∼ N (μ1 − μ2, σ1^2 + σ2^2).\n",
    "\n",
    "Similarly if Z = aX + bY , where X and Y are as defined above, i.e Z is linear combination of X and Y , then Z ∼ N(aμ1 + bμ2, a^2σ1^2 + b^2σ2^2 ).\n",
    "\n",
    "Therefore, in the question\n",
    "\n",
    "2X1~ N (2 u,4 σ^2) and\n",
    "\n",
    "X1+X2 ~ N (μ + μ, σ^2 + σ^2) ~ N (2 u, 2σ^2)\n",
    "\n",
    "2X1-(X1+X2) = N (4μ,6 σ^2)     \n"
   ]
  },
  {
   "cell_type": "markdown",
   "id": "815a8bb3",
   "metadata": {},
   "source": [
    "##### 4.\tLet X ~ N(100, 202). Find two values, a and b, symmetric about the mean, such that the probability of the random variable taking a value between them is 0.99. \n",
    "    A.\t90.5, 105.9 \n",
    "    B.\t80.2, 119.8 \n",
    "    C.\t22, 78 \n",
    "    D.\t48.5, 151.5 \n",
    "    E.\t90.1, 109.9\n"
   ]
  },
  {
   "cell_type": "code",
   "execution_count": 5,
   "id": "8ee8cec8",
   "metadata": {},
   "outputs": [
    {
     "name": "stdout",
     "output_type": "stream",
     "text": [
      "Value a: 48.48\n",
      "Value b: 151.52\n"
     ]
    }
   ],
   "source": [
    "# Let's calculate a and b:\n",
    "import scipy.stats as stats\n",
    "\n",
    "mean = 100\n",
    "std_dev = 20\n",
    "\n",
    "a = stats.norm.ppf(0.005, loc=mean, scale=std_dev)\n",
    "b = stats.norm.ppf(0.995, loc=mean, scale=std_dev)\n",
    "\n",
    "print(f\"Value a: {a:.2f}\")\n",
    "print(f\"Value b: {b:.2f}\")\n"
   ]
  },
  {
   "cell_type": "markdown",
   "id": "d0b93848",
   "metadata": {},
   "source": [
    "we find that the values a and b symmetric about the mean, such that the probability of the random variable taking a value between them is 0.99, are approximately:\n",
    "\n",
    "a ≈ 59.42\n",
    "\n",
    "b ≈ 140.58\n",
    "\n",
    "Therefore, the interval [a, b] is the range within which the random variable X will fall with a probability of 0.99.\n",
    "\n",
    "So, option D is correct."
   ]
  },
  {
   "cell_type": "markdown",
   "id": "86d234fd",
   "metadata": {},
   "source": [
    "##### Q5.Consider a company that has two different divisions. The annual profits from the two divisions are independent and have distributions Profit1 ~ N(5, 32) and Profit2 ~ N(7, 42) respectively. Both the profits are in $ Million. \n",
    "Answer the following questions about the total profit of the company in Rupees. Assume that $1 = Rs. 45\n",
    "\n",
    "\n",
    "A.\tSpecify a Rupee range (centered on the mean) such that it contains 95% probability for the annual profit of the company.\n",
    "\n",
    "B.\tSpecify the 5th percentile of profit (in Rupees) for the company\n",
    "\n",
    "C.\tWhich of the two divisions has a larger probability of making a loss in a given year?\n"
   ]
  },
  {
   "cell_type": "code",
   "execution_count": null,
   "id": "8873c831",
   "metadata": {},
   "outputs": [],
   "source": []
  },
  {
   "cell_type": "code",
   "execution_count": 1,
   "id": "cee7dd39",
   "metadata": {},
   "outputs": [
    {
     "name": "stdout",
     "output_type": "stream",
     "text": [
      "A. Rupee range (centered on the mean) containing 95% probability: (-213.63 Rs, 1300.43 Rs)\n",
      "B. 5th percentile of profit: -81.58 Rs\n",
      "C. Division 1 has a larger probability of making a loss in a given year.\n"
     ]
    }
   ],
   "source": [
    "import numpy as np\n",
    "import pandas as pd\n",
    "\n",
    "# Set the random seed for reproducibility\n",
    "np.random.seed(42)\n",
    "\n",
    "# Define the parameters of the normal distributions\n",
    "mean_profit1 = 5\n",
    "std_dev_profit1 = np.sqrt(32)\n",
    "mean_profit2 = 7\n",
    "std_dev_profit2 = np.sqrt(42)\n",
    "\n",
    "# Generate random samples for Profit1 and Profit2\n",
    "num_samples = 10_000  # Number of samples to generate\n",
    "profit1 = np.random.normal(mean_profit1, std_dev_profit1, num_samples)\n",
    "profit2 = np.random.normal(mean_profit2, std_dev_profit2, num_samples)\n",
    "\n",
    "# Convert profits to Rupees using the exchange rate $1 = Rs. 45\n",
    "exchange_rate = 45\n",
    "profit1_rupees = profit1 * exchange_rate\n",
    "profit2_rupees = profit2 * exchange_rate\n",
    "\n",
    "# Calculate the total profit in Rupees\n",
    "total_profit_rupees = profit1_rupees + profit2_rupees\n",
    "\n",
    "# A. Specify a Rupee range (centered on the mean) such that it contains 95% probability for the annual profit of the company.\n",
    "mean_total_profit_rupees = total_profit_rupees.mean()\n",
    "std_dev_total_profit_rupees = total_profit_rupees.std()\n",
    "\n",
    "confidence_interval = 0.95\n",
    "z_score = 1.96  # For a 95% confidence interval\n",
    "\n",
    "lower_range = mean_total_profit_rupees - (z_score * std_dev_total_profit_rupees)\n",
    "upper_range = mean_total_profit_rupees + (z_score * std_dev_total_profit_rupees)\n",
    "\n",
    "print(f\"A. Rupee range (centered on the mean) containing 95% probability: ({lower_range:.2f} Rs, {upper_range:.2f} Rs)\")\n",
    "\n",
    "# B. Specify the 5th percentile of profit (in Rupees) for the company\n",
    "percentile_5 = np.percentile(total_profit_rupees, 5)\n",
    "print(f\"B. 5th percentile of profit: {percentile_5:.2f} Rs\")\n",
    "\n",
    "# C. Which of the two divisions has a larger probability of making a loss in a given year?\n",
    "prob_loss_division1 = (profit1 < 0).mean()\n",
    "prob_loss_division2 = (profit2 < 0).mean()\n",
    "\n",
    "if prob_loss_division1 > prob_loss_division2:\n",
    "    division_with_higher_prob_loss = \"Division 1\"\n",
    "elif prob_loss_division2 > prob_loss_division1:\n",
    "    division_with_higher_prob_loss = \"Division 2\"\n",
    "else:\n",
    "    division_with_higher_prob_loss = \"Both divisions have the same probability of making a loss\"\n",
    "\n",
    "print(f\"C. {division_with_higher_prob_loss} has a larger probability of making a loss in a given year.\")\n"
   ]
  },
  {
   "cell_type": "code",
   "execution_count": null,
   "id": "e9527150",
   "metadata": {},
   "outputs": [],
   "source": []
  }
 ],
 "metadata": {
  "kernelspec": {
   "display_name": "Python 3 (ipykernel)",
   "language": "python",
   "name": "python3"
  },
  "language_info": {
   "codemirror_mode": {
    "name": "ipython",
    "version": 3
   },
   "file_extension": ".py",
   "mimetype": "text/x-python",
   "name": "python",
   "nbconvert_exporter": "python",
   "pygments_lexer": "ipython3",
   "version": "3.9.13"
  }
 },
 "nbformat": 4,
 "nbformat_minor": 5
}
